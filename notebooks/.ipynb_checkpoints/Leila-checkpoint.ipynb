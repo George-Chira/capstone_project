{
 "cells": [
  {
   "cell_type": "markdown",
   "metadata": {},
   "source": [
    "## Social Health Authority (SHA) FAQ Chatbot for Kenya"
   ]
  },
  {
   "cell_type": "markdown",
   "metadata": {},
   "source": [
    "## 1. Introduction and overview\n",
    "(to update)"
   ]
  },
  {
   "cell_type": "markdown",
   "metadata": {},
   "source": [
    "## 2. Business Understanding\n",
    "### 2.1 Business Problem\n",
    "(to update)\n",
    "### 2.2 Objectives\n",
    "(to update)"
   ]
  },
  {
   "cell_type": "markdown",
   "metadata": {},
   "source": [
    "## 3. Data Understanding\n",
    "\n",
    "This section will explore the data to become familiar with its characteristics as well as identify data quality issues and gather initial insights to guide further analysis."
   ]
  },
  {
   "cell_type": "code",
   "execution_count": 1,
   "metadata": {},
   "outputs": [],
   "source": [
    "# Importing the necessary libraries\n",
    "import pandas as pd\n",
    "import nltk\n",
    "from nltk.corpus import stopwords\n",
    "from nltk.stem import WordNetLemmatizer\n",
    "import re"
   ]
  },
  {
   "cell_type": "code",
   "execution_count": 2,
   "metadata": {},
   "outputs": [
    {
     "data": {
      "text/html": [
       "<div>\n",
       "<style scoped>\n",
       "    .dataframe tbody tr th:only-of-type {\n",
       "        vertical-align: middle;\n",
       "    }\n",
       "\n",
       "    .dataframe tbody tr th {\n",
       "        vertical-align: top;\n",
       "    }\n",
       "\n",
       "    .dataframe thead th {\n",
       "        text-align: right;\n",
       "    }\n",
       "</style>\n",
       "<table border=\"1\" class=\"dataframe\">\n",
       "  <thead>\n",
       "    <tr style=\"text-align: right;\">\n",
       "      <th></th>\n",
       "      <th>Question</th>\n",
       "      <th>Answer</th>\n",
       "    </tr>\n",
       "  </thead>\n",
       "  <tbody>\n",
       "    <tr>\n",
       "      <th>0</th>\n",
       "      <td>Why was the shift to Universal Health Coverage...</td>\n",
       "      <td>To ensure that all Kenyans have access to qual...</td>\n",
       "    </tr>\n",
       "    <tr>\n",
       "      <th>1</th>\n",
       "      <td>What is Social Health Insurance (SHI)?</td>\n",
       "      <td>It is a form of health financing mechanism bas...</td>\n",
       "    </tr>\n",
       "    <tr>\n",
       "      <th>2</th>\n",
       "      <td>What are the Principles of Social Health Insur...</td>\n",
       "      <td>Accessible, quality, affordable healthcare ser...</td>\n",
       "    </tr>\n",
       "    <tr>\n",
       "      <th>3</th>\n",
       "      <td>Why is Social Health Insurance important?</td>\n",
       "      <td>An efficient way of managing health funds – ab...</td>\n",
       "    </tr>\n",
       "    <tr>\n",
       "      <th>4</th>\n",
       "      <td>What are the 4 Health Laws?</td>\n",
       "      <td>1. The Social Health Insurance Law (2023) – Cr...</td>\n",
       "    </tr>\n",
       "    <tr>\n",
       "      <th>...</th>\n",
       "      <td>...</td>\n",
       "      <td>...</td>\n",
       "    </tr>\n",
       "    <tr>\n",
       "      <th>88</th>\n",
       "      <td>There is a need for measures to enhance the qu...</td>\n",
       "      <td>The Quality-of-Care Bill is underway to optimi...</td>\n",
       "    </tr>\n",
       "    <tr>\n",
       "      <th>89</th>\n",
       "      <td>Where should providers claim payment of pendin...</td>\n",
       "      <td>SHA has absorbed all NHIF liabilities, therefo...</td>\n",
       "    </tr>\n",
       "    <tr>\n",
       "      <th>90</th>\n",
       "      <td>What will be the role of SHA in ensuring commo...</td>\n",
       "      <td>SHA will reimburse healthcare providers based ...</td>\n",
       "    </tr>\n",
       "    <tr>\n",
       "      <th>91</th>\n",
       "      <td>How can individuals in Kenya file complaints o...</td>\n",
       "      <td>The Social Health Authority will develop a com...</td>\n",
       "    </tr>\n",
       "    <tr>\n",
       "      <th>92</th>\n",
       "      <td>Which takes precedence between procurement tri...</td>\n",
       "      <td>The Public Procurement Tribunal as provisioned...</td>\n",
       "    </tr>\n",
       "  </tbody>\n",
       "</table>\n",
       "<p>93 rows × 2 columns</p>\n",
       "</div>"
      ],
      "text/plain": [
       "                                             Question  \\\n",
       "0   Why was the shift to Universal Health Coverage...   \n",
       "1              What is Social Health Insurance (SHI)?   \n",
       "2   What are the Principles of Social Health Insur...   \n",
       "3           Why is Social Health Insurance important?   \n",
       "4                         What are the 4 Health Laws?   \n",
       "..                                                ...   \n",
       "88  There is a need for measures to enhance the qu...   \n",
       "89  Where should providers claim payment of pendin...   \n",
       "90  What will be the role of SHA in ensuring commo...   \n",
       "91  How can individuals in Kenya file complaints o...   \n",
       "92  Which takes precedence between procurement tri...   \n",
       "\n",
       "                                               Answer  \n",
       "0   To ensure that all Kenyans have access to qual...  \n",
       "1   It is a form of health financing mechanism bas...  \n",
       "2   Accessible, quality, affordable healthcare ser...  \n",
       "3   An efficient way of managing health funds – ab...  \n",
       "4   1. The Social Health Insurance Law (2023) – Cr...  \n",
       "..                                                ...  \n",
       "88  The Quality-of-Care Bill is underway to optimi...  \n",
       "89  SHA has absorbed all NHIF liabilities, therefo...  \n",
       "90  SHA will reimburse healthcare providers based ...  \n",
       "91  The Social Health Authority will develop a com...  \n",
       "92  The Public Procurement Tribunal as provisioned...  \n",
       "\n",
       "[93 rows x 2 columns]"
      ]
     },
     "execution_count": 2,
     "metadata": {},
     "output_type": "execute_result"
    }
   ],
   "source": [
    "# Loading and previewing the twitter sentiments dataset\n",
    "df = pd.read_csv(r'\\Users\\user\\Desktop\\DS_Projects\\phase_5_project\\capstone_project\\data\\FAQ_extracted.csv')\n",
    "df"
   ]
  },
  {
   "cell_type": "markdown",
   "metadata": {},
   "source": [
    "Exploring the data to gain insights about the data."
   ]
  },
  {
   "cell_type": "code",
   "execution_count": 3,
   "metadata": {},
   "outputs": [
    {
     "data": {
      "text/html": [
       "<div>\n",
       "<style scoped>\n",
       "    .dataframe tbody tr th:only-of-type {\n",
       "        vertical-align: middle;\n",
       "    }\n",
       "\n",
       "    .dataframe tbody tr th {\n",
       "        vertical-align: top;\n",
       "    }\n",
       "\n",
       "    .dataframe thead th {\n",
       "        text-align: right;\n",
       "    }\n",
       "</style>\n",
       "<table border=\"1\" class=\"dataframe\">\n",
       "  <thead>\n",
       "    <tr style=\"text-align: right;\">\n",
       "      <th></th>\n",
       "      <th>Question</th>\n",
       "      <th>Answer</th>\n",
       "    </tr>\n",
       "  </thead>\n",
       "  <tbody>\n",
       "    <tr>\n",
       "      <th>0</th>\n",
       "      <td>Why was the shift to Universal Health Coverage...</td>\n",
       "      <td>To ensure that all Kenyans have access to qual...</td>\n",
       "    </tr>\n",
       "    <tr>\n",
       "      <th>1</th>\n",
       "      <td>What is Social Health Insurance (SHI)?</td>\n",
       "      <td>It is a form of health financing mechanism bas...</td>\n",
       "    </tr>\n",
       "    <tr>\n",
       "      <th>2</th>\n",
       "      <td>What are the Principles of Social Health Insur...</td>\n",
       "      <td>Accessible, quality, affordable healthcare ser...</td>\n",
       "    </tr>\n",
       "    <tr>\n",
       "      <th>3</th>\n",
       "      <td>Why is Social Health Insurance important?</td>\n",
       "      <td>An efficient way of managing health funds – ab...</td>\n",
       "    </tr>\n",
       "    <tr>\n",
       "      <th>4</th>\n",
       "      <td>What are the 4 Health Laws?</td>\n",
       "      <td>1. The Social Health Insurance Law (2023) – Cr...</td>\n",
       "    </tr>\n",
       "  </tbody>\n",
       "</table>\n",
       "</div>"
      ],
      "text/plain": [
       "                                            Question  \\\n",
       "0  Why was the shift to Universal Health Coverage...   \n",
       "1             What is Social Health Insurance (SHI)?   \n",
       "2  What are the Principles of Social Health Insur...   \n",
       "3          Why is Social Health Insurance important?   \n",
       "4                        What are the 4 Health Laws?   \n",
       "\n",
       "                                              Answer  \n",
       "0  To ensure that all Kenyans have access to qual...  \n",
       "1  It is a form of health financing mechanism bas...  \n",
       "2  Accessible, quality, affordable healthcare ser...  \n",
       "3  An efficient way of managing health funds – ab...  \n",
       "4  1. The Social Health Insurance Law (2023) – Cr...  "
      ]
     },
     "execution_count": 3,
     "metadata": {},
     "output_type": "execute_result"
    }
   ],
   "source": [
    "# Previewing the top of the dataset\n",
    "df.head()"
   ]
  },
  {
   "cell_type": "code",
   "execution_count": 4,
   "metadata": {},
   "outputs": [],
   "source": [
    "# Define the category assignments based on question ranges\n",
    "df['Category'] = ''  # Initialize the 'Category' column\n",
    "\n",
    "# Assign categories based on the question ranges with meaningful names\n",
    "df.loc[0:3, 'Category'] = 'Understanding Social Health Authority (SHA)'       # Questions 1 - 4\n",
    "df.loc[4:17, 'Category'] = 'Institutions Created by UHC Laws and Transition'  # Questions 5 - 18\n",
    "df.loc[18:23, 'Category'] = 'NHIF Staff Considerations During Transition'     # Questions 19 - 24\n",
    "df.loc[24:30, 'Category'] = 'Primary Health Care & the PHC Fund'              # Questions 25 - 31\n",
    "df.loc[31:35, 'Category'] = 'Emergency, Chronic, and Critical Illness Fund'   # Questions 32 - 36\n",
    "df.loc[36:71, 'Category'] = 'Registration, Means Testing & Contributions'     # Questions 37 - 72\n",
    "df.loc[72:83, 'Category'] = 'Benefits, Tariffs & Claims Management'           # Questions 73 - 84\n",
    "df.loc[84:90, 'Category'] = 'Access & Quality of Service Provision'           # Questions 85 - 91\n",
    "df.loc[91:92, 'Category'] = 'Feedback and Dispute Resolution'                 # Questions 92 - 93"
   ]
  },
  {
   "cell_type": "code",
   "execution_count": 5,
   "metadata": {},
   "outputs": [
    {
     "data": {
      "text/html": [
       "<div>\n",
       "<style scoped>\n",
       "    .dataframe tbody tr th:only-of-type {\n",
       "        vertical-align: middle;\n",
       "    }\n",
       "\n",
       "    .dataframe tbody tr th {\n",
       "        vertical-align: top;\n",
       "    }\n",
       "\n",
       "    .dataframe thead th {\n",
       "        text-align: right;\n",
       "    }\n",
       "</style>\n",
       "<table border=\"1\" class=\"dataframe\">\n",
       "  <thead>\n",
       "    <tr style=\"text-align: right;\">\n",
       "      <th></th>\n",
       "      <th>Question</th>\n",
       "      <th>Answer</th>\n",
       "      <th>Category</th>\n",
       "    </tr>\n",
       "  </thead>\n",
       "  <tbody>\n",
       "    <tr>\n",
       "      <th>0</th>\n",
       "      <td>Why was the shift to Universal Health Coverage...</td>\n",
       "      <td>To ensure that all Kenyans have access to qual...</td>\n",
       "      <td>Understanding Social Health Authority (SHA)</td>\n",
       "    </tr>\n",
       "    <tr>\n",
       "      <th>1</th>\n",
       "      <td>What is Social Health Insurance (SHI)?</td>\n",
       "      <td>It is a form of health financing mechanism bas...</td>\n",
       "      <td>Understanding Social Health Authority (SHA)</td>\n",
       "    </tr>\n",
       "    <tr>\n",
       "      <th>2</th>\n",
       "      <td>What are the Principles of Social Health Insur...</td>\n",
       "      <td>Accessible, quality, affordable healthcare ser...</td>\n",
       "      <td>Understanding Social Health Authority (SHA)</td>\n",
       "    </tr>\n",
       "    <tr>\n",
       "      <th>3</th>\n",
       "      <td>Why is Social Health Insurance important?</td>\n",
       "      <td>An efficient way of managing health funds – ab...</td>\n",
       "      <td>Understanding Social Health Authority (SHA)</td>\n",
       "    </tr>\n",
       "    <tr>\n",
       "      <th>4</th>\n",
       "      <td>What are the 4 Health Laws?</td>\n",
       "      <td>1. The Social Health Insurance Law (2023) – Cr...</td>\n",
       "      <td>Institutions Created by UHC Laws and Transition</td>\n",
       "    </tr>\n",
       "  </tbody>\n",
       "</table>\n",
       "</div>"
      ],
      "text/plain": [
       "                                            Question  \\\n",
       "0  Why was the shift to Universal Health Coverage...   \n",
       "1             What is Social Health Insurance (SHI)?   \n",
       "2  What are the Principles of Social Health Insur...   \n",
       "3          Why is Social Health Insurance important?   \n",
       "4                        What are the 4 Health Laws?   \n",
       "\n",
       "                                              Answer  \\\n",
       "0  To ensure that all Kenyans have access to qual...   \n",
       "1  It is a form of health financing mechanism bas...   \n",
       "2  Accessible, quality, affordable healthcare ser...   \n",
       "3  An efficient way of managing health funds – ab...   \n",
       "4  1. The Social Health Insurance Law (2023) – Cr...   \n",
       "\n",
       "                                          Category  \n",
       "0      Understanding Social Health Authority (SHA)  \n",
       "1      Understanding Social Health Authority (SHA)  \n",
       "2      Understanding Social Health Authority (SHA)  \n",
       "3      Understanding Social Health Authority (SHA)  \n",
       "4  Institutions Created by UHC Laws and Transition  "
      ]
     },
     "execution_count": 5,
     "metadata": {},
     "output_type": "execute_result"
    }
   ],
   "source": [
    "# Previewing the top of the dataset\n",
    "df.head()"
   ]
  },
  {
   "cell_type": "code",
   "execution_count": 6,
   "metadata": {},
   "outputs": [
    {
     "data": {
      "text/html": [
       "<div>\n",
       "<style scoped>\n",
       "    .dataframe tbody tr th:only-of-type {\n",
       "        vertical-align: middle;\n",
       "    }\n",
       "\n",
       "    .dataframe tbody tr th {\n",
       "        vertical-align: top;\n",
       "    }\n",
       "\n",
       "    .dataframe thead th {\n",
       "        text-align: right;\n",
       "    }\n",
       "</style>\n",
       "<table border=\"1\" class=\"dataframe\">\n",
       "  <thead>\n",
       "    <tr style=\"text-align: right;\">\n",
       "      <th></th>\n",
       "      <th>Question</th>\n",
       "      <th>Answer</th>\n",
       "      <th>Category</th>\n",
       "    </tr>\n",
       "  </thead>\n",
       "  <tbody>\n",
       "    <tr>\n",
       "      <th>88</th>\n",
       "      <td>There is a need for measures to enhance the qu...</td>\n",
       "      <td>The Quality-of-Care Bill is underway to optimi...</td>\n",
       "      <td>Access &amp; Quality of Service Provision</td>\n",
       "    </tr>\n",
       "    <tr>\n",
       "      <th>89</th>\n",
       "      <td>Where should providers claim payment of pendin...</td>\n",
       "      <td>SHA has absorbed all NHIF liabilities, therefo...</td>\n",
       "      <td>Access &amp; Quality of Service Provision</td>\n",
       "    </tr>\n",
       "    <tr>\n",
       "      <th>90</th>\n",
       "      <td>What will be the role of SHA in ensuring commo...</td>\n",
       "      <td>SHA will reimburse healthcare providers based ...</td>\n",
       "      <td>Access &amp; Quality of Service Provision</td>\n",
       "    </tr>\n",
       "    <tr>\n",
       "      <th>91</th>\n",
       "      <td>How can individuals in Kenya file complaints o...</td>\n",
       "      <td>The Social Health Authority will develop a com...</td>\n",
       "      <td>Feedback and Dispute Resolution</td>\n",
       "    </tr>\n",
       "    <tr>\n",
       "      <th>92</th>\n",
       "      <td>Which takes precedence between procurement tri...</td>\n",
       "      <td>The Public Procurement Tribunal as provisioned...</td>\n",
       "      <td>Feedback and Dispute Resolution</td>\n",
       "    </tr>\n",
       "  </tbody>\n",
       "</table>\n",
       "</div>"
      ],
      "text/plain": [
       "                                             Question  \\\n",
       "88  There is a need for measures to enhance the qu...   \n",
       "89  Where should providers claim payment of pendin...   \n",
       "90  What will be the role of SHA in ensuring commo...   \n",
       "91  How can individuals in Kenya file complaints o...   \n",
       "92  Which takes precedence between procurement tri...   \n",
       "\n",
       "                                               Answer  \\\n",
       "88  The Quality-of-Care Bill is underway to optimi...   \n",
       "89  SHA has absorbed all NHIF liabilities, therefo...   \n",
       "90  SHA will reimburse healthcare providers based ...   \n",
       "91  The Social Health Authority will develop a com...   \n",
       "92  The Public Procurement Tribunal as provisioned...   \n",
       "\n",
       "                                 Category  \n",
       "88  Access & Quality of Service Provision  \n",
       "89  Access & Quality of Service Provision  \n",
       "90  Access & Quality of Service Provision  \n",
       "91        Feedback and Dispute Resolution  \n",
       "92        Feedback and Dispute Resolution  "
      ]
     },
     "execution_count": 6,
     "metadata": {},
     "output_type": "execute_result"
    }
   ],
   "source": [
    "# Previewing the bottom of the dataset\n",
    "df.tail()"
   ]
  },
  {
   "cell_type": "code",
   "execution_count": 7,
   "metadata": {},
   "outputs": [
    {
     "data": {
      "text/plain": [
       "(93, 3)"
      ]
     },
     "execution_count": 7,
     "metadata": {},
     "output_type": "execute_result"
    }
   ],
   "source": [
    "# Checking the dimensions of the data\n",
    "df.shape"
   ]
  },
  {
   "cell_type": "markdown",
   "metadata": {},
   "source": [
    "This output shows:\n",
    "\n",
    " - Number of Rows (FAQs): There are 93 rows in the DataFrame.\n",
    " - Number of Columns (Variables): There are 3 columns (or variables) in the DataFrame."
   ]
  },
  {
   "cell_type": "code",
   "execution_count": 8,
   "metadata": {},
   "outputs": [
    {
     "name": "stdout",
     "output_type": "stream",
     "text": [
      "<class 'pandas.core.frame.DataFrame'>\n",
      "RangeIndex: 93 entries, 0 to 92\n",
      "Data columns (total 3 columns):\n",
      " #   Column    Non-Null Count  Dtype \n",
      "---  ------    --------------  ----- \n",
      " 0   Question  93 non-null     object\n",
      " 1   Answer    93 non-null     object\n",
      " 2   Category  93 non-null     object\n",
      "dtypes: object(3)\n",
      "memory usage: 2.3+ KB\n"
     ]
    }
   ],
   "source": [
    "# Checking on the data type\n",
    "df.info()"
   ]
  },
  {
   "cell_type": "code",
   "execution_count": 9,
   "metadata": {},
   "outputs": [
    {
     "data": {
      "text/plain": [
       "Index(['Question', 'Answer', 'Category'], dtype='object')"
      ]
     },
     "execution_count": 9,
     "metadata": {},
     "output_type": "execute_result"
    }
   ],
   "source": [
    "# Checking columns\n",
    "df.columns"
   ]
  },
  {
   "cell_type": "markdown",
   "metadata": {},
   "source": [
    "## 4. Data Preparation\n",
    "Here I will clean and preprocess the data, including selecting relevant features, handling missing values, and transforming data into the desired format for modeling"
   ]
  },
  {
   "cell_type": "code",
   "execution_count": 10,
   "metadata": {},
   "outputs": [
    {
     "data": {
      "text/plain": [
       "Question    0\n",
       "Answer      0\n",
       "Category    0\n",
       "dtype: int64"
      ]
     },
     "execution_count": 10,
     "metadata": {},
     "output_type": "execute_result"
    }
   ],
   "source": [
    "# Checking for missing values\n",
    "df.isnull().sum()"
   ]
  },
  {
   "cell_type": "markdown",
   "metadata": {},
   "source": [
    "From the output we can conclude that there are no missing values from any of the columns in the dataset."
   ]
  },
  {
   "cell_type": "code",
   "execution_count": 11,
   "metadata": {},
   "outputs": [
    {
     "data": {
      "text/plain": [
       "0"
      ]
     },
     "execution_count": 11,
     "metadata": {},
     "output_type": "execute_result"
    }
   ],
   "source": [
    "# Checking for duplicates\n",
    "df.duplicated().sum()"
   ]
  },
  {
   "cell_type": "markdown",
   "metadata": {},
   "source": [
    "From the output we can conclude that there are no duplicate values from any of the columns in the dataset."
   ]
  },
  {
   "cell_type": "markdown",
   "metadata": {},
   "source": [
    "**NOTE:** Since there are no missing or duplicate values in the dataset data cleaning is not required."
   ]
  },
  {
   "cell_type": "markdown",
   "metadata": {},
   "source": [
    "### 4.1 Data Visualization\n",
    "(?? to update)"
   ]
  },
  {
   "cell_type": "markdown",
   "metadata": {},
   "source": [
    "### 4.2 Text Preprocessing"
   ]
  },
  {
   "cell_type": "code",
   "execution_count": 12,
   "metadata": {},
   "outputs": [],
   "source": [
    "# Text preprocessing\n",
    "def preprocess_text(text):\n",
    "    # Lowercase conversion\n",
    "    text = text.lower()\n",
    "    # Remove special characters\n",
    "    text = re.sub(r'[^\\w\\s]', '', text)\n",
    "    # Tokenize\n",
    "    words = text.split()\n",
    "    # Remove stopwords\n",
    "    stop_words = set(stopwords.words('english'))\n",
    "    words = [word for word in words if word not in stop_words]\n",
    "    # Lemmatization\n",
    "    lemmatizer = WordNetLemmatizer()\n",
    "    words = [lemmatizer.lemmatize(word) for word in words]\n",
    "    # Join words back into a string\n",
    "    return ' '.join(words)\n",
    "\n",
    "# Apply preprocessing to question and answer columns\n",
    "df['preprocessed_question'] = df['Question'].apply(preprocess_text)\n",
    "df['preprocessed_answer'] = df['Answer'].apply(preprocess_text)\n",
    "df['preprocessed_category'] = df['Category'].apply(preprocess_text)"
   ]
  },
  {
   "cell_type": "code",
   "execution_count": 13,
   "metadata": {},
   "outputs": [
    {
     "data": {
      "text/html": [
       "<div>\n",
       "<style scoped>\n",
       "    .dataframe tbody tr th:only-of-type {\n",
       "        vertical-align: middle;\n",
       "    }\n",
       "\n",
       "    .dataframe tbody tr th {\n",
       "        vertical-align: top;\n",
       "    }\n",
       "\n",
       "    .dataframe thead th {\n",
       "        text-align: right;\n",
       "    }\n",
       "</style>\n",
       "<table border=\"1\" class=\"dataframe\">\n",
       "  <thead>\n",
       "    <tr style=\"text-align: right;\">\n",
       "      <th></th>\n",
       "      <th>Question</th>\n",
       "      <th>Answer</th>\n",
       "      <th>Category</th>\n",
       "      <th>preprocessed_question</th>\n",
       "      <th>preprocessed_answer</th>\n",
       "      <th>preprocessed_category</th>\n",
       "    </tr>\n",
       "  </thead>\n",
       "  <tbody>\n",
       "    <tr>\n",
       "      <th>0</th>\n",
       "      <td>Why was the shift to Universal Health Coverage...</td>\n",
       "      <td>To ensure that all Kenyans have access to qual...</td>\n",
       "      <td>Understanding Social Health Authority (SHA)</td>\n",
       "      <td>shift universal health coverage necessary</td>\n",
       "      <td>ensure kenyan access quality affordable compre...</td>\n",
       "      <td>understanding social health authority sha</td>\n",
       "    </tr>\n",
       "    <tr>\n",
       "      <th>1</th>\n",
       "      <td>What is Social Health Insurance (SHI)?</td>\n",
       "      <td>It is a form of health financing mechanism bas...</td>\n",
       "      <td>Understanding Social Health Authority (SHA)</td>\n",
       "      <td>social health insurance shi</td>\n",
       "      <td>form health financing mechanism based risk res...</td>\n",
       "      <td>understanding social health authority sha</td>\n",
       "    </tr>\n",
       "    <tr>\n",
       "      <th>2</th>\n",
       "      <td>What are the Principles of Social Health Insur...</td>\n",
       "      <td>Accessible, quality, affordable healthcare ser...</td>\n",
       "      <td>Understanding Social Health Authority (SHA)</td>\n",
       "      <td>principle social health insurance</td>\n",
       "      <td>accessible quality affordable healthcare servi...</td>\n",
       "      <td>understanding social health authority sha</td>\n",
       "    </tr>\n",
       "    <tr>\n",
       "      <th>3</th>\n",
       "      <td>Why is Social Health Insurance important?</td>\n",
       "      <td>An efficient way of managing health funds – ab...</td>\n",
       "      <td>Understanding Social Health Authority (SHA)</td>\n",
       "      <td>social health insurance important</td>\n",
       "      <td>efficient way managing health fund able set mo...</td>\n",
       "      <td>understanding social health authority sha</td>\n",
       "    </tr>\n",
       "    <tr>\n",
       "      <th>4</th>\n",
       "      <td>What are the 4 Health Laws?</td>\n",
       "      <td>1. The Social Health Insurance Law (2023) – Cr...</td>\n",
       "      <td>Institutions Created by UHC Laws and Transition</td>\n",
       "      <td>4 health law</td>\n",
       "      <td>1 social health insurance law 2023 creating in...</td>\n",
       "      <td>institution created uhc law transition</td>\n",
       "    </tr>\n",
       "  </tbody>\n",
       "</table>\n",
       "</div>"
      ],
      "text/plain": [
       "                                            Question  \\\n",
       "0  Why was the shift to Universal Health Coverage...   \n",
       "1             What is Social Health Insurance (SHI)?   \n",
       "2  What are the Principles of Social Health Insur...   \n",
       "3          Why is Social Health Insurance important?   \n",
       "4                        What are the 4 Health Laws?   \n",
       "\n",
       "                                              Answer  \\\n",
       "0  To ensure that all Kenyans have access to qual...   \n",
       "1  It is a form of health financing mechanism bas...   \n",
       "2  Accessible, quality, affordable healthcare ser...   \n",
       "3  An efficient way of managing health funds – ab...   \n",
       "4  1. The Social Health Insurance Law (2023) – Cr...   \n",
       "\n",
       "                                          Category  \\\n",
       "0      Understanding Social Health Authority (SHA)   \n",
       "1      Understanding Social Health Authority (SHA)   \n",
       "2      Understanding Social Health Authority (SHA)   \n",
       "3      Understanding Social Health Authority (SHA)   \n",
       "4  Institutions Created by UHC Laws and Transition   \n",
       "\n",
       "                       preprocessed_question  \\\n",
       "0  shift universal health coverage necessary   \n",
       "1                social health insurance shi   \n",
       "2          principle social health insurance   \n",
       "3          social health insurance important   \n",
       "4                               4 health law   \n",
       "\n",
       "                                 preprocessed_answer  \\\n",
       "0  ensure kenyan access quality affordable compre...   \n",
       "1  form health financing mechanism based risk res...   \n",
       "2  accessible quality affordable healthcare servi...   \n",
       "3  efficient way managing health fund able set mo...   \n",
       "4  1 social health insurance law 2023 creating in...   \n",
       "\n",
       "                       preprocessed_category  \n",
       "0  understanding social health authority sha  \n",
       "1  understanding social health authority sha  \n",
       "2  understanding social health authority sha  \n",
       "3  understanding social health authority sha  \n",
       "4     institution created uhc law transition  "
      ]
     },
     "execution_count": 13,
     "metadata": {},
     "output_type": "execute_result"
    }
   ],
   "source": [
    "# Previewing the top of the preprocessed data\n",
    "df.head()"
   ]
  },
  {
   "cell_type": "code",
   "execution_count": null,
   "metadata": {},
   "outputs": [],
   "source": []
  }
 ],
 "metadata": {
  "kernelspec": {
   "display_name": "Python (learn-env)",
   "language": "python",
   "name": "learn-env"
  },
  "language_info": {
   "codemirror_mode": {
    "name": "ipython",
    "version": 3
   },
   "file_extension": ".py",
   "mimetype": "text/x-python",
   "name": "python",
   "nbconvert_exporter": "python",
   "pygments_lexer": "ipython3",
   "version": "3.8.5"
  }
 },
 "nbformat": 4,
 "nbformat_minor": 4
}
