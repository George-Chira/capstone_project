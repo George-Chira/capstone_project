{
 "cells": [
  {
   "cell_type": "markdown",
   "metadata": {},
   "source": [
    "## SHIF CHAT BOT"
   ]
  },
  {
   "cell_type": "markdown",
   "metadata": {},
   "source": [
    "Load the data"
   ]
  },
  {
   "cell_type": "code",
   "execution_count": 5,
   "metadata": {},
   "outputs": [
    {
     "data": {
      "text/html": [
       "<div>\n",
       "<style scoped>\n",
       "    .dataframe tbody tr th:only-of-type {\n",
       "        vertical-align: middle;\n",
       "    }\n",
       "\n",
       "    .dataframe tbody tr th {\n",
       "        vertical-align: top;\n",
       "    }\n",
       "\n",
       "    .dataframe thead th {\n",
       "        text-align: right;\n",
       "    }\n",
       "</style>\n",
       "<table border=\"1\" class=\"dataframe\">\n",
       "  <thead>\n",
       "    <tr style=\"text-align: right;\">\n",
       "      <th></th>\n",
       "      <th>Question</th>\n",
       "      <th>Answer</th>\n",
       "    </tr>\n",
       "  </thead>\n",
       "  <tbody>\n",
       "    <tr>\n",
       "      <th>0</th>\n",
       "      <td>Why was the shift to Universal Health Coverage...</td>\n",
       "      <td>To ensure that all Kenyans have access to qual...</td>\n",
       "    </tr>\n",
       "    <tr>\n",
       "      <th>1</th>\n",
       "      <td>What is Social Health Insurance (SHI)?</td>\n",
       "      <td>It is a form of health financing mechanism bas...</td>\n",
       "    </tr>\n",
       "    <tr>\n",
       "      <th>2</th>\n",
       "      <td>What are the Principles of Social Health Insur...</td>\n",
       "      <td>Accessible, quality, affordable healthcare ser...</td>\n",
       "    </tr>\n",
       "    <tr>\n",
       "      <th>3</th>\n",
       "      <td>Why is Social Health Insurance important?</td>\n",
       "      <td>An efficient way of managing health funds – ab...</td>\n",
       "    </tr>\n",
       "    <tr>\n",
       "      <th>4</th>\n",
       "      <td>What are the 4 Health Laws?</td>\n",
       "      <td>1. The Social Health Insurance Law (2023) – Cr...</td>\n",
       "    </tr>\n",
       "  </tbody>\n",
       "</table>\n",
       "</div>"
      ],
      "text/plain": [
       "                                            Question  \\\n",
       "0  Why was the shift to Universal Health Coverage...   \n",
       "1             What is Social Health Insurance (SHI)?   \n",
       "2  What are the Principles of Social Health Insur...   \n",
       "3          Why is Social Health Insurance important?   \n",
       "4                        What are the 4 Health Laws?   \n",
       "\n",
       "                                              Answer  \n",
       "0  To ensure that all Kenyans have access to qual...  \n",
       "1  It is a form of health financing mechanism bas...  \n",
       "2  Accessible, quality, affordable healthcare ser...  \n",
       "3  An efficient way of managing health funds – ab...  \n",
       "4  1. The Social Health Insurance Law (2023) – Cr...  "
      ]
     },
     "execution_count": 5,
     "metadata": {},
     "output_type": "execute_result"
    }
   ],
   "source": [
    "import pandas as pd\n",
    "\n",
    "# Load the CSV file\n",
    "df = pd.read_csv(r'C:\\Users\\WILSON MACHOKA\\Desktop\\final_project\\capstone_project\\data\\FAQ_extracted.csv')\n",
    "\n",
    "# Display the first few rows of the dataframe\n",
    "df.head()"
   ]
  }
 ],
 "metadata": {
  "kernelspec": {
   "display_name": "Python 3",
   "language": "python",
   "name": "python3"
  },
  "language_info": {
   "codemirror_mode": {
    "name": "ipython",
    "version": 3
   },
   "file_extension": ".py",
   "mimetype": "text/x-python",
   "name": "python",
   "nbconvert_exporter": "python",
   "pygments_lexer": "ipython3",
   "version": "3.8.5"
  }
 },
 "nbformat": 4,
 "nbformat_minor": 2
}
